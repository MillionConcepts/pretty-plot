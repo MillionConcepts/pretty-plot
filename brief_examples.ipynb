{
 "cells": [
  {
   "cell_type": "code",
   "execution_count": null,
   "id": "c15da554-10a7-4f0a-95cc-550614589470",
   "metadata": {},
   "outputs": [],
   "source": [
    "from pretty_plot.convert import load_spectra\n",
    "from pretty_plot.pplot_utils import pretty_plot"
   ]
  },
  {
   "cell_type": "markdown",
   "id": "1d4bb515-69cc-4afe-81b9-9c3126c7ab55",
   "metadata": {},
   "source": [
    "## `pretty_plot` arguments\n",
    "\n",
    "`normalize`:\n",
    "* `True` (normalize to 0-1)\n",
    "* `False` (don't normalize)\n",
    "* name of filter as string, like `\"L2\"` (divide by value at that filter)\n",
    "\n",
    "`offset`:\n",
    "\n",
    "Add absolute separation between successive spectra (in order of appearance in input file). Can be any `float` -- I have been using 0, 0.1, or 0.2. Can also be a `list` of `float` of the same length as the input spectra, specifying separate offsets for each. \n",
    "\n",
    "`solar_elevation`:\n",
    "\n",
    "Used for R*. Ignored if `normalize` is not `False`\n",
    "\n",
    "`plot_fn`:\n",
    "\n",
    "Filename for an output image; if you don't pass it, \n",
    "`pretty_plot` will display the figure in the Notebook,\n",
    "but will not write an image to disk\n",
    "\n",
    "`height_sf`:\n",
    "\n",
    "Make plot longer and skinnier\n",
    "\n",
    "`width_sf`:\n",
    "\n",
    "Make plot wider and skinnier"
   ]
  },
  {
   "cell_type": "markdown",
   "id": "1ba459d3-a73c-456c-bdf5-a8ba0b9e9fe7",
   "metadata": {},
   "source": [
    "## example of use"
   ]
  },
  {
   "cell_type": "code",
   "execution_count": null,
   "id": "afe33694-3cce-4256-8555-5a23ed1a7f3d",
   "metadata": {},
   "outputs": [],
   "source": [
    "marslab_file = (\n",
    "    '/home/michael/Downloads/marslab_SOL1164_zcam03911_RSM236.csv'\n",
    ")\n",
    "marslab = load_spectra(marslab_file)"
   ]
  },
  {
   "cell_type": "code",
   "execution_count": null,
   "id": "0f1e7a7b",
   "metadata": {},
   "outputs": [],
   "source": [
    "pretty_plot(\n",
    "    marslab,\n",
    "    normalize=None,\n",
    "    offset = 0,\n",
    "    solar_elevation=marslab.loc[0, \"SOLAR_ELEVATION\"],\n",
    "    plot_fn=\"whatever.png\",\n",
    "    height_sf=1,\n",
    "    width_sf=1\n",
    ")"
   ]
  },
  {
   "cell_type": "markdown",
   "id": "17ec4c10",
   "metadata": {},
   "source": [
    "The contents of this repo are provided by the Western Washington University Reflectance Lab (PI: M. Rice) and Million Concepts (C. Million, M. St. Clair, S.V. Brown) under a BSD 3-Clause License. You may do nearly anything that you want with this code. If you have any questions, leave us a Github Issue."
   ]
  }
 ],
 "metadata": {
  "kernelspec": {
   "display_name": "Python 3 (ipykernel)",
   "language": "python",
   "name": "python3"
  },
  "language_info": {
   "codemirror_mode": {
    "name": "ipython",
    "version": 3
   },
   "file_extension": ".py",
   "mimetype": "text/x-python",
   "name": "python",
   "nbconvert_exporter": "python",
   "pygments_lexer": "ipython3",
   "version": "3.13.1"
  }
 },
 "nbformat": 4,
 "nbformat_minor": 5
}
